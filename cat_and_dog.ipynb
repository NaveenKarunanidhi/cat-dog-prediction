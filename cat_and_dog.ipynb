{
  "nbformat": 4,
  "nbformat_minor": 0,
  "metadata": {
    "colab": {
      "name": "cat and dog.ipynb",
      "provenance": [],
      "collapsed_sections": [],
      "authorship_tag": "ABX9TyMjBKKfirciCiqHBIuv9YNt"
    },
    "kernelspec": {
      "name": "python3",
      "display_name": "Python 3"
    }
  },
  "cells": [
    {
      "cell_type": "code",
      "metadata": {
        "id": "WssJ15zHj_oe",
        "colab_type": "code",
        "colab": {}
      },
      "source": [
        "import keras\n",
        "from keras import backend as K\n",
        "from keras.models import Sequential\n",
        "from keras.layers import Activation\n",
        "from keras.layers import Dense, Conv2D, MaxPooling2D, Flatten\n",
        "from keras.optimizers import Adam\n",
        "from keras.metrics import categorical_crossentropy\n",
        "from keras.preprocessing.image import ImageDataGenerator\n",
        "import cv2\n",
        "import matplotlib.pyplot as plt\n",
        "import matplotlib.image as mpimg\n",
        "import numpy as np\n",
        "import random\n",
        "%matplotlib inline\n"
      ],
      "execution_count": 0,
      "outputs": []
    },
    {
      "cell_type": "code",
      "metadata": {
        "id": "joW44XuaP4Py",
        "colab_type": "code",
        "colab": {}
      },
      "source": [
        "target_width = 50\n",
        "target_height = 50\n",
        "target_size = (target_width, target_height)\n",
        "classes = ['dog', 'cat']\n",
        "train_path = 'data/train'\n",
        "test_path = 'data/test1'\n",
        "\n",
        "train_batches = ImageDataGenerator().flow_from_directory(train_path, target_size=target_size, classes=classes,  batch_size=20)"
      ],
      "execution_count": 0,
      "outputs": []
    },
    {
      "cell_type": "code",
      "metadata": {
        "id": "fmdu0OfSP9TE",
        "colab_type": "code",
        "colab": {}
      },
      "source": [
        "model = Sequential()\n",
        "\n",
        "model.add( Conv2D(32, (3, 3), activation='relu', input_shape=(50,50,3)) )\n",
        "model.add( MaxPooling2D(pool_size=(2,2)) )\n",
        "\n",
        "model.add( Conv2D(32, (3, 3), activation='relu') )\n",
        "model.add( MaxPooling2D(pool_size=(2,2)) )\n",
        "\n",
        "model.add( Flatten() )\n",
        "model.add( Dense(128, activation='relu') )\n",
        "model.add( Dense(2, activation='softmax') )\n",
        "\n",
        "model.compile(Adam(lr=0.00003), loss='categorical_crossentropy', metrics=['accuracy'])\n",
        "\n",
        "steps_per_epoch = 600\n",
        "epochs = 40\n",
        "model.fit_generator(train_batches, steps_per_epoch=steps_per_epoch, epochs=epochs)"
      ],
      "execution_count": 0,
      "outputs": []
    },
    {
      "cell_type": "code",
      "metadata": {
        "id": "dLb9oj-jP9YO",
        "colab_type": "code",
        "colab": {}
      },
      "source": [
        "model.save('cat_vs_dog.h5')"
      ],
      "execution_count": 0,
      "outputs": []
    },
    {
      "cell_type": "code",
      "metadata": {
        "id": "U_ObkntTP9bk",
        "colab_type": "code",
        "colab": {}
      },
      "source": [
        "from keras.models import load_model\n",
        "loaded_model = load_model('cat_vs_dog.h5')\n",
        "\n",
        "def probability_to_percentage(p):\n",
        "    return round(p*100, 2)\n",
        "\n",
        "def parse_prediction_array(prediction):\n",
        "    max_index = prediction[0].argmax()\n",
        "    if max_index == 0:\n",
        "        return {\"label\": \"chien\", \"p\": probability_to_percentage(prediction[0][max_index])}\n",
        "    else:\n",
        "         return {\"label\": \"chat\", \"p\": probability_to_percentage(prediction[0][max_index])}\n",
        "\n",
        "for _ in range(20):\n",
        "    rand_nb = random.randint(1, 12500)\n",
        "    img_src = 'data/test1/'+ str(rand_nb) +'.jpg'\n",
        "    img =  cv2.imread(img_src)\n",
        "\n",
        "    img = cv2.resize(img, target_size)\n",
        "    img = img.reshape(1, target_width,target_height,3)\n",
        "    prediction = loaded_model.predict(img)\n",
        "\n",
        "    parsed_res = parse_prediction_array(prediction)\n",
        "\n",
        "    fig, ax = plt.subplots()\n",
        "    title =  str(parsed_res[\"p\"]) + \"% de chance d'être un \" + str(parsed_res[\"label\"])\n",
        "    fig.suptitle(title, fontsize=12)\n",
        "\n",
        "    np_img = mpimg.imread(img_src)\n",
        "    plt.imshow(np_img)"
      ],
      "execution_count": 0,
      "outputs": []
    }
  ]
}